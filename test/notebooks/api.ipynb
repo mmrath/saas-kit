{
 "cells": [
  {
   "cell_type": "code",
   "execution_count": null,
   "metadata": {},
   "outputs": [],
   "source": [
    "import requests\n",
    "from IPython.display import JSON\n",
    "\n",
    "LOCAL = False\n",
    "\n",
    "url = f\"https://docker78406-saas-kit.jcloud.ik-server.com\"\n",
    "\n",
    "if LOCAL:\n",
    "    import os\n",
    "    from dotenv import load_dotenv\n",
    "\n",
    "    load_dotenv()\n",
    "    PORT = os.getenv(\"WEBBFF_SERVICE_PORT\")\n",
    "\n",
    "    url = f\"http://localhost:{PORT}\"\n",
    "\n",
    "# Default headers (extended with authorization when necessary)\n",
    "headers = {'Accept': 'application/json', 'Content-Type': 'application/json'}\n",
    "\n",
    "client = requests.session()"
   ]
  },
  {
   "cell_type": "markdown",
   "metadata": {},
   "source": [
    "## Authentication service\n",
    "\n",
    "### Login"
   ]
  },
  {
   "cell_type": "code",
   "execution_count": null,
   "metadata": {},
   "outputs": [],
   "source": [
    "payload = {\n",
    "    'email': 'simon@smartnuance.com',\n",
    "    'password': 'f00bartest',\n",
    "    'instance': 'smartnuance.com'\n",
    "}\n",
    "response = client.post(f'{url}/auth/login', json=payload, headers=headers)\n",
    "print(response.status_code)\n",
    "\n",
    "login_res = response.json()\n",
    "JSON(login_res)\n"
   ]
  },
  {
   "cell_type": "markdown",
   "metadata": {},
   "source": [
    "### Refresh tokens"
   ]
  },
  {
   "cell_type": "code",
   "execution_count": null,
   "metadata": {},
   "outputs": [],
   "source": [
    "payload = {\n",
    "    'refreshToken': login_res[\"refreshToken\"],\n",
    "}\n",
    "response = client.post(f'{url}/auth/refresh', json=payload, headers=headers)\n",
    "print(response.status_code)\n",
    "\n",
    "refresh_res = response.json()\n",
    "login_res[\"accessToken\"] = refresh_res[\"accessToken\"]\n",
    "JSON(refresh_res)\n"
   ]
  },
  {
   "cell_type": "markdown",
   "metadata": {},
   "source": [
    "### Revoke all tokens for a user"
   ]
  },
  {
   "cell_type": "code",
   "execution_count": null,
   "metadata": {},
   "outputs": [],
   "source": [
    "payload = {\n",
    "    'email': 'simon@smartnuance.com',\n",
    "}\n",
    "auth_header = {\n",
    "    'Authorization': f'Bearer {login_res[\"accessToken\"]}',\n",
    "}\n",
    "response = client.delete(f'{url}/auth/revoke/all', json=payload, headers=dict(headers, **auth_header))\n",
    "print(response.status_code)\n"
   ]
  },
  {
   "cell_type": "markdown",
   "metadata": {},
   "source": [
    "## Interact with event service\n",
    "\n",
    "### Create workshop"
   ]
  },
  {
   "cell_type": "code",
   "execution_count": null,
   "metadata": {},
   "outputs": [],
   "source": [
    "\n",
    "payload = {\n",
    "    'title': 'Bachata',\n",
    "    'slug': 'bachata',\n",
    "    'locationName': 'Ponto',\n",
    "    'locationURL': 'https://goo.gl/maps/wE3viADXW1CB7LNP9',\n",
    "}\n",
    "auth_header = {\n",
    "    'Authorization': f'Bearer {login_res[\"accessToken\"]}',\n",
    "    'role': 'event organizer',\n",
    "    'instance': 'c5263570ono4ui8qfhgg',\n",
    "}\n",
    "\n",
    "response = client.put(f'{url}/event/workshop', json=payload, headers=dict(headers, **auth_header))\n",
    "print(response.status_code)\n",
    "workshop = response.json()\n",
    "JSON(workshop)\n"
   ]
  },
  {
   "cell_type": "markdown",
   "metadata": {},
   "source": [
    "### List workshops"
   ]
  },
  {
   "cell_type": "code",
   "execution_count": 37,
   "metadata": {},
   "outputs": [
    {
     "name": "stdout",
     "output_type": "stream",
     "text": [
      "200\n"
     ]
    },
    {
     "data": {
      "application/json": {
       "items": [
        {
         "couples": false,
         "event": {
          "instance": "c5263570ono4ui8qfhgg",
          "locationName": "Gazebo",
          "starts": "0001-01-01T00:00:00Z",
          "title": "Salsa"
         },
         "eventID": "c66n79ghf17s54lr7mbg",
         "id": "c66n79ghf17s54lr7mc0",
         "locationName": "Gazebo",
         "slug": "Salsa",
         "starts": "2021-11-12T19:30:00Z",
         "title": "Salsa"
        },
        {
         "couples": false,
         "event": {
          "instance": "c5263570ono4ui8qfhgg",
          "locationName": "Ponto",
          "starts": "0001-01-01T00:00:00Z",
          "title": "Bachata"
         },
         "eventID": "c6f135ohf17s5f6tv1pg",
         "id": "c6f135ohf17s5f6tv1q0",
         "locationName": "Ponto",
         "starts": "0001-01-01T00:00:00Z",
         "title": "Bachata"
        },
        {
         "couples": false,
         "event": {
          "instance": "c5263570ono4ui8qfhgg",
          "locationName": "Ponto",
          "starts": "0001-01-01T00:00:00Z",
          "title": "Bachata"
         },
         "eventID": "c6rnpb0hf17s5f6tv1qg",
         "id": "c6rnpb0hf17s5f6tv1r0",
         "locationName": "Ponto",
         "starts": "0001-01-01T00:00:00Z",
         "title": "Bachata"
        },
        {
         "couples": false,
         "event": {
          "instance": "c5263570ono4ui8qfhgg",
          "locationName": "Ponto",
          "starts": "0001-01-01T00:00:00Z",
          "title": "Bachata"
         },
         "eventID": "c6u6u48hf17s5f6tv1rg",
         "id": "c6u6u48hf17s5f6tv1s0",
         "locationName": "Ponto",
         "starts": "0001-01-01T00:00:00Z",
         "title": "Bachata"
        },
        {
         "couples": false,
         "event": {
          "instance": "c5263570ono4ui8qfhgg",
          "locationName": "Ponto",
          "starts": "0001-01-01T00:00:00Z",
          "title": "Bachata"
         },
         "eventID": "c6u6u80hf17s5f6tv1sg",
         "id": "c6u6u80hf17s5f6tv1t0",
         "locationName": "Ponto",
         "starts": "0001-01-01T00:00:00Z",
         "title": "Bachata"
        },
        {
         "couples": false,
         "event": {
          "instance": "c5263570ono4ui8qfhgg",
          "locationName": "Ponto",
          "locationURL": "https://goo.gl/maps/wE3viADXW1CB7LNP9",
          "starts": "0001-01-01T00:00:00Z",
          "title": "Bachata"
         },
         "eventID": "c6u6v6ohf17s5f6tv1tg",
         "id": "c6u6v6ohf17s5f6tv1u0",
         "locationName": "Ponto",
         "locationURL": "https://goo.gl/maps/wE3viADXW1CB7LNP9",
         "starts": "0001-01-01T00:00:00Z",
         "title": "Bachata"
        },
        {
         "couples": false,
         "event": {
          "instance": "c5263570ono4ui8qfhgg",
          "locationName": "Ponto",
          "locationURL": "https://goo.gl/maps/wE3viADXW1CB7LNP9",
          "starts": "0001-01-01T00:00:00Z",
          "title": "Bachata"
         },
         "eventID": "c6u710ghf17s5f6tv1ug",
         "id": "c6u710ghf17s5f6tv1v0",
         "locationName": "Ponto",
         "locationURL": "https://goo.gl/maps/wE3viADXW1CB7LNP9",
         "starts": "0001-01-01T00:00:00Z",
         "title": "Bachata"
        },
        {
         "couples": false,
         "event": {
          "instance": "c5263570ono4ui8qfhgg",
          "locationName": "Ponto",
          "locationURL": "https://goo.gl/maps/wE3viADXW1CB7LNP9",
          "starts": "0001-01-01T00:00:00Z",
          "title": "Bachata"
         },
         "eventID": "c6u7g1ghf17s5f6tv1vg",
         "id": "c6u7g1ghf17s5f6tv200",
         "locationName": "Ponto",
         "locationURL": "https://goo.gl/maps/wE3viADXW1CB7LNP9",
         "starts": "0001-01-01T00:00:00Z",
         "title": "Bachata"
        },
        {
         "couples": false,
         "event": {
          "instance": "c5263570ono4ui8qfhgg",
          "locationName": "Ponto",
          "locationURL": "https://goo.gl/maps/wE3viADXW1CB7LNP9",
          "starts": "0001-01-01T00:00:00Z",
          "title": "Bachata"
         },
         "eventID": "c6uabf8aa6gs5i6q2bag",
         "id": "c6uabf8aa6gs5i6q2bb0",
         "locationName": "Ponto",
         "locationURL": "https://goo.gl/maps/wE3viADXW1CB7LNP9",
         "slug": "bachata",
         "starts": "0001-01-01T00:00:00Z",
         "title": "Bachata"
        }
       ],
       "paging": {
        "cur": {
         "end": "c6uabf8aa6gs5i6q2bb0",
         "size": 9,
         "start": "c66n79ghf17s54lr7mc0"
        }
       }
      },
      "text/plain": [
       "<IPython.core.display.JSON object>"
      ]
     },
     "execution_count": 37,
     "metadata": {
      "application/json": {
       "expanded": false,
       "root": "root"
      }
     },
     "output_type": "execute_result"
    }
   ],
   "source": [
    "auth_header = {\n",
    "    'Authorization': f'Bearer {login_res[\"accessToken\"]}',\n",
    "    'role': 'event organizer',\n",
    "    'instance': 'c5263570ono4ui8qfhgg',\n",
    "}\n",
    "response = client.get(f'{url}/event/workshop/list', headers=dict(headers, **auth_header))\n",
    "print(response.status_code)\n",
    "workshops = response.json()[\"items\"]\n",
    "JSON(response.json())\n"
   ]
  },
  {
   "cell_type": "markdown",
   "metadata": {},
   "source": [
    "### Delete workshop"
   ]
  },
  {
   "cell_type": "code",
   "execution_count": null,
   "metadata": {},
   "outputs": [],
   "source": [
    "id = workshops[0][\"id\"]\n",
    "print(f\"delete {id}\")\n",
    "\n",
    "auth_header = {\n",
    "    'Authorization': f'Bearer {login_res[\"accessToken\"]}',\n",
    "    'role': 'event organizer',\n",
    "    'instance': 'c5263570ono4ui8qfhgg',\n",
    "}\n",
    "response = client.delete(f'{url}/event/workshop/{id}', headers=dict(headers, **auth_header))\n",
    "print(response.status_code)\n"
   ]
  }
 ],
 "metadata": {
  "interpreter": {
   "hash": "ecab546efc45d271803c8367390e20cc9d8eb48184bb80f1b2a5f6a47202bfef"
  },
  "kernelspec": {
   "display_name": "Python 3.9.7 64-bit",
   "language": "python",
   "name": "python3"
  },
  "language_info": {
   "codemirror_mode": {
    "name": "ipython",
    "version": 3
   },
   "file_extension": ".py",
   "mimetype": "text/x-python",
   "name": "python",
   "nbconvert_exporter": "python",
   "pygments_lexer": "ipython3",
   "version": "3.9.9"
  },
  "metadata": {
   "interpreter": {
    "hash": "e7370f93d1d0cde622a1f8e1c04877d8463912d04d973331ad4851f04de6915a"
   }
  },
  "orig_nbformat": 3
 },
 "nbformat": 4,
 "nbformat_minor": 2
}
